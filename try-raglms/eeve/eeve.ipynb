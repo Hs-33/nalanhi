{
 "cells": [
  {
   "cell_type": "code",
   "execution_count": 1,
   "metadata": {},
   "outputs": [
    {
     "name": "stdout",
     "output_type": "stream",
     "text": [
      "생략"     ]
    }
   ],
   "source": [
    "from langchain_community.document_loaders import PyPDFLoader\n",
    "\n",
    "# pdf파일 로드\n",
    "loader = PyPDFLoader(\"C:\\\\Users\\\\user240512\\\\Desktop\\\\황신정\\\\langchain\\\\pdf\\\\2018 장애인 차별 예방 사이버인권교육보조교재.pdf\")\n",
    "print(loader.load())"
   ]
  },
  {
   "cell_type": "code",
   "execution_count": 2,
   "metadata": {},
   "outputs": [],
   "source": [
    "pages = loader.load()"
   ]
  },
  {
   "cell_type": "code",
   "execution_count": 3,
   "metadata": {},
   "outputs": [],
   "source": [
    "# 일부 페이지만 선택\n",
    "sel_pages = pages[9:225]"
   ]
  },
  {
   "cell_type": "markdown",
   "metadata": {},
   "source": []
  },
  {
   "cell_type": "code",
   "execution_count": 4,
   "metadata": {},
   "outputs": [],
   "source": [
    "from langchain.text_splitter import RecursiveCharacterTextSplitter\n",
    "\n",
    "# 문서를 문장으로 분리\n",
    "text_splitter = RecursiveCharacterTextSplitter(\n",
    "    chunk_size=500,\n",
    "    chunk_overlap=50,\n",
    ")\n",
    "docs = text_splitter.split_documents(sel_pages)"
   ]
  },
  {
   "cell_type": "code",
   "execution_count": 5,
   "metadata": {},
   "outputs": [
    {
     "data": {
      "text/plain": [
       "[Document(metadata={'source': 'C:\\\\Users\\\\user240512\\\\Desktop\\\\황신정\\\\langchain\\\\pdf\\\\2018 장애인 차별 예방 사이버인권교육보조교재.pdf', 'page': 9}, page_content='차\\n이\\n･\\n차\\n별 1강\\n이\\n야\\n기\\n제1강 차이･차별 이야기 ◀◀ 3 \\n제1강차이･차별 이야기\\n차이란 무엇일까요 ? 세상에 나하고 모든 것이 완벽하게 똑같은 사람이 있을까요 ? \\n우리는 외형이 매우 비슷한 일란성 쌍둥이를 보면서도 두 사람 사이에 작고 미묘한 차이들이 \\n존재함을 느낄 수 있습니다 . 그리고 그렇게 각자에게 존재하는 차이들이 모여 사회 속에서  \\n우리를 각각 의미 있는 다른 사람으로 살아가게 합니다 . \\n즉, 외모, 성격, 나이, 성적 취향, 학력, 직장, 소득수준 , 출산, 가족형태 , 결혼, 종교, 국적, 피부색 , \\n장애 등 우리가 갖고 있는 이러한 촘촘한 차이들을 통해 사회는 획일화되지 않고 다양하게  \\n구성되고 운영될 수 있습니다 . \\n그렇다면 차별은 무엇일까요 ? 차이와 어떤 관계가 있는 것일까요 ? 누구나 가지고 있는 차이를 \\n이유로 다르게 대우하는 것 그것이 바로 차별입니다 . 즉, 장애, 나이, 학력, 성적 취향을 이유로'),\n",
       " Document(metadata={'source': 'C:\\\\Users\\\\user240512\\\\Desktop\\\\황신정\\\\langchain\\\\pdf\\\\2018 장애인 차별 예방 사이버인권교육보조교재.pdf', 'page': 9}, page_content='누군가를 다르게 대우하고 , 누군가에게 불평등한 상황을 초래하는 것을 우리는 차별이라고  \\n합니다 . \\n따라서 본 차시에서는 차이와 차별에 대한 이해 및 다름이 차별이 되는 상황을 알아보고 , 누구도  \\n다름을 이유로 차별 받지 않는 사회환경을 위한 방안을 함께 고민해 보고자 합니다 . \\n학습목표\\n•차이와 차별, 편견, 선입견 등의 개념을 설명할 수 있다.\\n•차이가 차별이 되는 잘못된 인식과 사회환경에 대해 분석 할 수 있다.\\n•차이가 차별이 되는 소수자의 인권상황을 파악할 수 있다.\\n학습내용\\n•차이\\n 차별의 개념과 연결\\n•차이 차별의 상황들'),\n",
       " Document(metadata={'source': 'C:\\\\Users\\\\user240512\\\\Desktop\\\\황신정\\\\langchain\\\\pdf\\\\2018 장애인 차별 예방 사이버인권교육보조교재.pdf', 'page': 10}, page_content='4 ▶▶ 사이버인권교육 보조교재 <장애인 차별 예방>\\n1차이･차별의 개념\\n가. 차이와 차별의 정의\\n차이는 서로 같지 않고 다름, 또는 그런 정도나 상태를 말하며 , 차별은 둘 이상의 대상을  \\n각각 등급이나 수준 따위의 차이를 두어서 구별하는 것을 의미한다 . 좀 더 자세히 설명\\n하면 기본적으로 평등한 지위의 집단을 자의적인 기준에 의해 불평등하게 대우함으로써 , \\n특정 집단을 사회적으로 격리시키는 통제 형태를 의미한다 .\\n나. 선입견(선입관)과 편견의 정의\\n선입견 또는 선입관은 어떤 대상에 대하여 이미 마음 속에 가지고 있는 고정적인 관념\\n이나 관점을 말하며 , 편견은 공정하지 못하고 한쪽으로 치우친 생각으로서 , 선입견과 차\\n이가 있다.\\n다. 평등권 침해의 정의\\n차이, 차별, 선입견 , 편견과 관련하여 국가인권위원회법 제2조에서는 평등권 침해의 차\\n별행위를 합리적인 이유 없이 성별, 종교, 장애, 나이, 사회적 신분, 출생지 , 등록기준지 ,'),\n",
       " Document(metadata={'source': 'C:\\\\Users\\\\user240512\\\\Desktop\\\\황신정\\\\langchain\\\\pdf\\\\2018 장애인 차별 예방 사이버인권교육보조교재.pdf', 'page': 10}, page_content='성년이 되기 전의 주된 거주지 등 출신 지역, 출신 국가, 출신 민족, 용모 등 신체조건 , \\n기혼.미혼.별거.이혼.사별,재혼.사실혼 등 혼인 여부, 임신 또는 출산, 가족 형태 또는 가족 \\n상황, 인종, 피부색 , 사상 또는 정치적 의견, 형의 효력이 실효된 전과(前科), 성적(性的)\\n지향, 학력, 병력 등을 이유로 특정한 사람을 우대\\n 배제\\n 구별하거나 불리하게 대우하는 \\n행위로 정의하고 있다.'),\n",
       " Document(metadata={'source': 'C:\\\\Users\\\\user240512\\\\Desktop\\\\황신정\\\\langchain\\\\pdf\\\\2018 장애인 차별 예방 사이버인권교육보조교재.pdf', 'page': 11}, page_content='차\\n이\\n･\\n차\\n별 1강\\n이\\n야\\n기\\n제1강 차이･차별 이야기 ◀◀ 5\\n2차이･차별의 상황들\\n가. 우리는 모두 다르다\\n사람은 키, 몸무게 , 점수, 성별, 피부색 , 장애유무 , 재산정도 , 나이, 가족구성원 , 성적취향 , \\n성정체성 등 수 많은 차이 속에서 서로의 다름을 통해 나를 확인하면서 살아가고 있다. \\n따라서 나와 남을 구별하는 차이는 다름을 통해 결국 나 자신의 정체성을 확인하는 가장 \\n중요한 요소가 된다.\\n나. 누군가 나를 또는 내가 누군가를 차별했을 때\\n차별도 역시 나의 경험이 차별인가 아닌가의 판단을 통해 차별을 찾아낼 수 있는 나의 \\n감수성을 확대하고 그것을 통해 내 주변 사람들의 차별 상황에 대해 인식할 수 있는 \\n계기를 만들어 갈 수 있다는 점이 중요하다 .\\n다. 사례\\n1. 다른 사람들은 어떤 경우에 차별을 받았다고 느꼈을까 ?\\n사례 1\\n어린 시절 오빠와 남동생 사이에서 딸이었던 나의 삶은 차별의 연속이었다 . 집안일은 모두 나'),\n",
       " Document(metadata={'source': 'C:\\\\Users\\\\user240512\\\\Desktop\\\\황신정\\\\langchain\\\\pdf\\\\2018 장애인 차별 예방 사이버인권교육보조교재.pdf', 'page': 11}, page_content='혼자만 도와야 했고, 항상 남자형제들의 뒤치다꺼리에 바빴다 . 고등학교 졸업 무렵 형제들 가운데  \\n가장 공부를 잘했지만 , 꼭 대학에 갔으면 좋겠다는 담임선생님의 권유는 ‘계집애를 무슨 대학에 \\n보내냐 ’는 할머니의 노발대발로 마무리되었다 .\\n예전에는 남아선호사상이 강해서 딸이라는 이유로 가정 내에서 차별이 많았다 . 특히 \\n사례의 주인공처럼 집안일이나 진학문제에서 거의 딸이 많이 희생을 했다.'),\n",
       " Document(metadata={'source': 'C:\\\\Users\\\\user240512\\\\Desktop\\\\황신정\\\\langchain\\\\pdf\\\\2018 장애인 차별 예방 사이버인권교육보조교재.pdf', 'page': 12}, page_content='6 ▶▶ 사이버인권교육 보조교재 <장애인 차별 예방>2. 내가 한 행동이나 말이 그 사람에게 차별이 됐을까 ?\\n사례 2\\n저희 사무실에서 직원을 뽑기 위해 면접을 진행하게 되었는데요 . 얼굴도 예쁘고 몸매도 날씬한 \\n여성분이 있었어요 . 그런데 공정하게 이력서를 꼼꼼히 보고 실력을 가늠해보아야 한다고 생각하\\n면서도 면접관들이 그 여성분에게만 질문도 하고 관심을 보이는 것이었습니다 . 저도 역시 그 여\\n성분에게 특별한 판단 없이 좋은 점수를 주었던 것 같습니다 .\\n저희 동네에는 공장이 많이 있는데 공장에 외국인노동자들이 많이 근무하고 있습니다 . 그런데 \\n어느 날 밤늦은 시간에 동네에서 지나가던 행인이 폭행을 당하고 지갑을 뺏기는 사건이 발생했\\n습니다 . 동네 사람들 모두 외국인노동자가 그랬을 것이라고 생각하면서 . 이전보다 더 외국인노\\n동자를 경계하게 되었고 , 일부 집주인은 세를 살고 있는 외국인 노동자를 쫓아내기도 했습니다 .'),\n",
       " Document(metadata={'source': 'C:\\\\Users\\\\user240512\\\\Desktop\\\\황신정\\\\langchain\\\\pdf\\\\2018 장애인 차별 예방 사이버인권교육보조교재.pdf', 'page': 12}, page_content='나중에 범인은 인근 고등학교 학생들이었다는 것이 밝혀졌지만 , 동네사람들 누구도 괜한 오해를 \\n받은 그분들에게 미안해하지 않았습니다 . \\n사례 2)처럼 여성이나 외국인노동자에게 차별적인 말 또는 행동을 한 경험은 없는가 ? \\n3. 차이와 차별은 어떤 관계가 있을까 ?\\n사례 3\\n오늘 시험을 봤어요 . 그런데 갑자기 수업이 끝날 때 선생님께서 시험점수 60점 이하는 보충\\n수업을 해야 하니까 모두 남으라고 하시고 , 60점 넘은 사람은 집에 가라고 하시고요 , 이것 차별 \\n아닌가요 ?\\n교사가 서로 다른 점수 차이에 대하여 60점이라는 기준을 중심으로 한쪽은 남아서 보충\\n수업을 받도록 하고 한쪽은 그냥 집에 가라고 하며 다르게 대우하는 것은 명백하게 차별\\n이다.\\n실제로 초등학교 교실에서 이 사례와 관련하여 성적에 관해 많은 이야기를 했는데요 . \\n그런데 서로의 차이를 인정하고 차별하면 안된다고 이야기하던 아이들이 성적에 대해서는'),\n",
       " Document(metadata={'source': 'C:\\\\Users\\\\user240512\\\\Desktop\\\\황신정\\\\langchain\\\\pdf\\\\2018 장애인 차별 예방 사이버인권교육보조교재.pdf', 'page': 12}, page_content='그런데 서로의 차이를 인정하고 차별하면 안된다고 이야기하던 아이들이 성적에 대해서는  \\n‘자신이 노력하지 않아서 낮은 점수를 받았기 때문에 차별이 아니다 ’ ‘성적이 나쁜 것은 \\n자기 책임이기 때문에 다르게 대우받아도 괜챃 다 ’라고 하면서 성적에 의한 차별은 마땅\\n하다 라는 의견을 제시했다 .'),\n",
       " Document(metadata={'source': 'C:\\\\Users\\\\user240512\\\\Desktop\\\\황신정\\\\langchain\\\\pdf\\\\2018 장애인 차별 예방 사이버인권교육보조교재.pdf', 'page': 13}, page_content='차\\n이\\n･\\n차\\n별 1강\\n이\\n야\\n기\\n제1강 차이･차별 이야기 ◀◀ 74. 나의 차별 감수성은 몇 점일까 ?\\n사례 4\\n신원동력 . 우리는 같은 일을 하고 있습니다 . 농촌의 생명력과 기업의 원동력이 이루어져 하나가 \\n되어야 합니다 .\\n효에는 유행이 있을 수 없습니다 . 비녀가 유행했을 당시에도 , 립스틱이 유행하는 지금도 효에는 \\n변함이 없습니다 .\\n잠은 집에서 주무셔야죠 ! Are you homeless?\\n첫 번째 신원동력에 관한 광고와 두 번째 효에 관한 광고는 모두 성적 차별의 내용을 \\n포함한 것이다 . 신원동력 광고에서 넥타이는 남성을 상징하는 것으로서 , 원동력의 주체가  \\n남성에만 해당되는 것으로 묘사되었다 . \\n두 번째 효 광고에서 립스틱과 비녀는 여성을 상징하는 것으로서 , 마치 여성이 효가 \\n부족한 것처럼 암시하는 것 같다. \\n세 번째 광고에서는 노숙인을 너무 부정적으로 제시했다 . 공중도덕을 위반하는 사람이 \\n모두 노숙인이라는 듯한 표현은 적절하지 않다. \\n3공유하기')]"
      ]
     },
     "execution_count": 5,
     "metadata": {},
     "output_type": "execute_result"
    }
   ],
   "source": [
    "docs[:10]"
   ]
  },
  {
   "cell_type": "code",
   "execution_count": 6,
   "metadata": {},
   "outputs": [
    {
     "data": {
      "text/plain": [
       "True"
      ]
     },
     "execution_count": 6,
     "metadata": {},
     "output_type": "execute_result"
    }
   ],
   "source": [
    "import torch\n",
    "torch.cuda.is_available()"
   ]
  },
  {
   "cell_type": "code",
   "execution_count": 7,
   "metadata": {},
   "outputs": [
    {
     "name": "stderr",
     "output_type": "stream",
     "text": [
      "c:\\Users\\user240512\\.conda\\envs\\langchain\\lib\\site-packages\\tqdm\\auto.py:21: TqdmWarning: IProgress not found. Please update jupyter and ipywidgets. See https://ipywidgets.readthedocs.io/en/stable/user_install.html\n",
      "  from .autonotebook import tqdm as notebook_tqdm\n"
     ]
    }
   ],
   "source": [
    "import transformers"
   ]
  },
  {
   "cell_type": "code",
   "execution_count": 8,
   "metadata": {},
   "outputs": [
    {
     "name": "stderr",
     "output_type": "stream",
     "text": [
      "c:\\Users\\user240512\\.conda\\envs\\langchain\\lib\\site-packages\\langchain_core\\_api\\deprecation.py:139: LangChainDeprecationWarning: The class `HuggingFaceEmbeddings` was deprecated in LangChain 0.2.2 and will be removed in 0.3.0. An updated version of the class exists in the langchain-huggingface package and should be used instead. To use it run `pip install -U langchain-huggingface` and import as `from langchain_huggingface import HuggingFaceEmbeddings`.\n",
      "  warn_deprecated(\n"
     ]
    }
   ],
   "source": [
    "from langchain.embeddings import HuggingFaceEmbeddings\n",
    "\n",
    "# 허깅페이스에 업로드 되어있는 임베딩 모델 선택\n",
    "embeddings = HuggingFaceEmbeddings(\n",
    "    model_name='jhgan/ko-sroberta-multitask',\n",
    "    # model_kwargs={'device':'cpu'},\n",
    "    model_kwargs={'device':'cuda'},\n",
    "    encode_kwargs={'normalize_embeddings':True},\n",
    ")"
   ]
  },
  {
   "cell_type": "code",
   "execution_count": 31,
   "metadata": {},
   "outputs": [
    {
     "ename": "SyntaxError",
     "evalue": "invalid syntax (3684965659.py, line 5)",
     "output_type": "error",
     "traceback": [
      "\u001b[1;36m  Cell \u001b[1;32mIn[31], line 5\u001b[1;36m\u001b[0m\n\u001b[1;33m    vectorstore = Chroma.from_documents(docs, embeddings)/\u001b[0m\n\u001b[1;37m                                                          ^\u001b[0m\n\u001b[1;31mSyntaxError\u001b[0m\u001b[1;31m:\u001b[0m invalid syntax\n"
     ]
    }
   ],
   "source": [
    "# 벡터 저장소 생성\n",
    "from langchain.vectorstores import Chroma\n",
    "import os\n",
    "\n",
    "vector/store = Chroma.from_documents(docs, embeddings)\n",
    "\n",
    "\n",
    "# 벡터 저장소 경로 설정\n",
    "vectorstore_path = 'vectorstore'\n",
    "os.makedirs(vectorstore_path, exist_ok=True)\n",
    "\n",
    "# 벡터 저장소 생성 및 저장\n",
    "vectorstore = Chroma.from_documents(docs, embeddings, persist_directory=vectorstore_path)\n",
    "\n",
    "# 벡터스토어 데이터를 디스크에 저장\n",
    "vectorstore.persist()\n",
    "print(\"Vectorstore created and persisted\")"
   ]
  },
  {
   "cell_type": "code",
   "execution_count": 28,
   "metadata": {},
   "outputs": [
    {
     "data": {
      "text/plain": [
       "<bound method VectorStore._get_retriever_tags of <langchain_community.vectorstores.chroma.Chroma object at 0x00000277FFF57B20>>"
      ]
     },
     "execution_count": 28,
     "metadata": {},
     "output_type": "execute_result"
    }
   ],
   "source": [
    "vectorstore._get_retriever_tags"
   ]
  },
  {
   "cell_type": "code",
   "execution_count": 11,
   "metadata": {},
   "outputs": [],
   "source": [
    "from langchain_community.chat_models import ChatOllama\n",
    "\n",
    "# Ollama 를 이용해 로컬에서 LLM 실행\n",
    "model = ChatOllama(model=\"eeve\", temperature=0)"
   ]
  },
  {
   "cell_type": "code",
   "execution_count": 12,
   "metadata": {},
   "outputs": [
    {
     "data": {
      "text/plain": [
       "ChatOllama(model='eeve', temperature=0.0)"
      ]
     },
     "execution_count": 12,
     "metadata": {},
     "output_type": "execute_result"
    }
   ],
   "source": [
    "model"
   ]
  },
  {
   "cell_type": "code",
   "execution_count": 20,
   "metadata": {},
   "outputs": [],
   "source": [
    "# 유사한 k개의 청크 \n",
    "retriever = vectorstore.as_retriever(search_type=\"similarity\",search_kwargs={'k': 3})"
   ]
  },
  {
   "cell_type": "code",
   "execution_count": 22,
   "metadata": {},
   "outputs": [],
   "source": [
    "from langchain_core.runnables import RunnablePassthrough\n",
    "from langchain_core.output_parsers import StrOutputParser\n",
    "from langchain_core.prompts import ChatPromptTemplate\n",
    "\n",
    "# Prompt 템플릿 생성\n",
    "template = f'''\"친절한 챗봇으로서 상대방의 요청에 최대한 자세하고 친절하게 답하자. \n",
    "모든 대답은 한국어(Korean)으로 대답해줘. \n",
    "너는 사용자의 입력에 대해 관련된 정보를 정보전달 게시물 형식으로 인스타그램 게시물을 생성해야돼\":\n",
    "{{context}}\n",
    "\n",
    "\n",
    "\n",
    "Question: {{question}}\n",
    "'''\n",
    "\n",
    "prompt = ChatPromptTemplate.from_template(template)\n",
    "\n",
    "def format_docs(docs):\n",
    "    return '\\n\\n'.join([d.page_content for d in docs])\n",
    "\n",
    "# RAG Chain 연결\n",
    "rag_chain = (\n",
    "    {'context': retriever | format_docs, 'question': RunnablePassthrough()}\n",
    "    | prompt\n",
    "    | model\n",
    "    | StrOutputParser()\n",
    ")\n",
    "\n"
   ]
  },
  {
   "cell_type": "code",
   "execution_count": 23,
   "metadata": {},
   "outputs": [
    {
     "name": "stdout",
     "output_type": "stream",
     "text": [
      "Query: 장애 등급 기준\n",
      "Answer: 🌈 장애 등급 기준 이해하기 💡\n",
      "\n",
      "장애인복지법상 한국에서 인정하는 장애유형은 총 15가지이며, 각 유형별로 판정 기준에 따라 1~6급까지의 등급을 나눠 장애인 지원 제도가 시행되고 있어요. \n",
      "\n",
      "🌱 발달장애: 인지적 어려움과 관계 형성에 어려움을 겪는 장애입니다.\n",
      "🧠 지적장애: 지적 기능 및 적응 기능에 상당한 제한이 있는 장애로, 의사소통과 일상 생활에 어려움이 있습니다.\n",
      "💭 정신장애: 사고 과정, 감정 조절, 대인관계 등에 문제를 일으키는 장애로, 소통에 어려움을 겪습니다. \n",
      "\n",
      "장애 등급은 개인의 능력과 필요를 고려하여 결정되며, 그에 따라 다양한 지원 서비스와 혜택을 받을 수 있어요. 장애인과 비장애인이 함께 어우러져 서로를 이해하고 존중하는 사회를 만들어나가기 위해 노력합시다! #장애등급 #장애인복지법 #발달장애 #지적장애 #정신장애\n"
     ]
    }
   ],
   "source": [
    "# Chain 실행\n",
    "query = \"장애 등급 기준\"\n",
    "answer = rag_chain.invoke(query)\n",
    "\n",
    "print(\"Query:\", query)\n",
    "print(\"Answer:\", answer)"
   ]
  },
  {
   "cell_type": "code",
   "execution_count": 24,
   "metadata": {},
   "outputs": [
    {
     "name": "stdout",
     "output_type": "stream",
     "text": [
      "🌈 장애 등급 기준 이해하기 💡\n",
      "\n",
      "장애인복지법상 한국에서 인정하는 장애유형은 총 15가지이며, 각 유형별로 판정 기준에 따라 1~6급으로 분류됩니다. 이 등급에 따라 장애인 지원 제도가 제공되는데, 1급이 가장 중증이고 6급이 경증입니다.\n",
      "\n",
      "🌱 발달장애: 인지적 어려움 💡\n",
      "발달장애는 출생부터 나이가 들면서 정상적으로 발달해야 할 과정에서 어려움을 겪는 장애를 말합니다. 이에는 지적장애와 자폐성장애가 포함됩니다.\n",
      "\n",
      "🧠 지적장애: 인지 능력 저하 💡\n",
      "지적장애는 지능이 평균보다 현저히 낮아 일상생활에서 상당한 도움이 필요한 상태를 의미합니다. 이는 학습, 의사소통, 사회적 상호작용에 어려움을 초래합니다.\n",
      "\n",
      "🌈 자폐성장애: 관계 형성 어려움 💡\n",
      "자폐성장애는 사회성, 소통, 행동 면에서 심각한 제한을 경험하는 장애입니다. 이로 인해 대인관계 형성과 일상적인 활동에 어려움이 생깁니다.\n",
      "\n",
      "🧠 정신장애: 의사소통의 어려움 💡\n",
      "정신장애는 사고 과정, 감정 조절, 사회적 기능에 영향을 미치는 장애로, 의사소통에 어려움을 초래합니다. 이는 조현병이나 양극성 장애와 같은 질환을 포함할 수 있습니다.\n",
      "\n",
      "🌈 장애 등급과 지원제도 연결하기 💡\n",
      "장애등급은 장애인 지원 제도의 수준을"
     ]
    },
    {
     "ename": "KeyboardInterrupt",
     "evalue": "",
     "output_type": "error",
     "traceback": [
      "\u001b[1;31m---------------------------------------------------------------------------\u001b[0m",
      "\u001b[1;31mKeyboardInterrupt\u001b[0m                         Traceback (most recent call last)",
      "Cell \u001b[1;32mIn[24], line 1\u001b[0m\n\u001b[1;32m----> 1\u001b[0m \u001b[38;5;28;01mfor\u001b[39;00m chunk \u001b[38;5;129;01min\u001b[39;00m rag_chain\u001b[38;5;241m.\u001b[39mstream(\u001b[38;5;124m\"\u001b[39m\u001b[38;5;124m장애 등급 기준\u001b[39m\u001b[38;5;124m\"\u001b[39m):\n\u001b[0;32m      2\u001b[0m     \u001b[38;5;28mprint\u001b[39m(chunk, end\u001b[38;5;241m=\u001b[39m\u001b[38;5;124m\"\u001b[39m\u001b[38;5;124m\"\u001b[39m, flush\u001b[38;5;241m=\u001b[39m\u001b[38;5;28;01mTrue\u001b[39;00m)\n",
      "File \u001b[1;32mc:\\Users\\user240512\\.conda\\envs\\langchain\\lib\\site-packages\\langchain_core\\runnables\\base.py:2877\u001b[0m, in \u001b[0;36mRunnableSequence.stream\u001b[1;34m(self, input, config, **kwargs)\u001b[0m\n\u001b[0;32m   2871\u001b[0m \u001b[38;5;28;01mdef\u001b[39;00m \u001b[38;5;21mstream\u001b[39m(\n\u001b[0;32m   2872\u001b[0m     \u001b[38;5;28mself\u001b[39m,\n\u001b[0;32m   2873\u001b[0m     \u001b[38;5;28minput\u001b[39m: Input,\n\u001b[0;32m   2874\u001b[0m     config: Optional[RunnableConfig] \u001b[38;5;241m=\u001b[39m \u001b[38;5;28;01mNone\u001b[39;00m,\n\u001b[0;32m   2875\u001b[0m     \u001b[38;5;241m*\u001b[39m\u001b[38;5;241m*\u001b[39mkwargs: Optional[Any],\n\u001b[0;32m   2876\u001b[0m ) \u001b[38;5;241m-\u001b[39m\u001b[38;5;241m>\u001b[39m Iterator[Output]:\n\u001b[1;32m-> 2877\u001b[0m     \u001b[38;5;28;01myield from\u001b[39;00m \u001b[38;5;28mself\u001b[39m\u001b[38;5;241m.\u001b[39mtransform(\u001b[38;5;28miter\u001b[39m([\u001b[38;5;28minput\u001b[39m]), config, \u001b[38;5;241m*\u001b[39m\u001b[38;5;241m*\u001b[39mkwargs)\n",
      "File \u001b[1;32mc:\\Users\\user240512\\.conda\\envs\\langchain\\lib\\site-packages\\langchain_core\\runnables\\base.py:2864\u001b[0m, in \u001b[0;36mRunnableSequence.transform\u001b[1;34m(self, input, config, **kwargs)\u001b[0m\n\u001b[0;32m   2858\u001b[0m \u001b[38;5;28;01mdef\u001b[39;00m \u001b[38;5;21mtransform\u001b[39m(\n\u001b[0;32m   2859\u001b[0m     \u001b[38;5;28mself\u001b[39m,\n\u001b[0;32m   2860\u001b[0m     \u001b[38;5;28minput\u001b[39m: Iterator[Input],\n\u001b[0;32m   2861\u001b[0m     config: Optional[RunnableConfig] \u001b[38;5;241m=\u001b[39m \u001b[38;5;28;01mNone\u001b[39;00m,\n\u001b[0;32m   2862\u001b[0m     \u001b[38;5;241m*\u001b[39m\u001b[38;5;241m*\u001b[39mkwargs: Optional[Any],\n\u001b[0;32m   2863\u001b[0m ) \u001b[38;5;241m-\u001b[39m\u001b[38;5;241m>\u001b[39m Iterator[Output]:\n\u001b[1;32m-> 2864\u001b[0m     \u001b[38;5;28;01myield from\u001b[39;00m \u001b[38;5;28mself\u001b[39m\u001b[38;5;241m.\u001b[39m_transform_stream_with_config(\n\u001b[0;32m   2865\u001b[0m         \u001b[38;5;28minput\u001b[39m,\n\u001b[0;32m   2866\u001b[0m         \u001b[38;5;28mself\u001b[39m\u001b[38;5;241m.\u001b[39m_transform,\n\u001b[0;32m   2867\u001b[0m         patch_config(config, run_name\u001b[38;5;241m=\u001b[39m(config \u001b[38;5;129;01mor\u001b[39;00m {})\u001b[38;5;241m.\u001b[39mget(\u001b[38;5;124m\"\u001b[39m\u001b[38;5;124mrun_name\u001b[39m\u001b[38;5;124m\"\u001b[39m) \u001b[38;5;129;01mor\u001b[39;00m \u001b[38;5;28mself\u001b[39m\u001b[38;5;241m.\u001b[39mname),\n\u001b[0;32m   2868\u001b[0m         \u001b[38;5;241m*\u001b[39m\u001b[38;5;241m*\u001b[39mkwargs,\n\u001b[0;32m   2869\u001b[0m     )\n",
      "File \u001b[1;32mc:\\Users\\user240512\\.conda\\envs\\langchain\\lib\\site-packages\\langchain_core\\runnables\\base.py:1862\u001b[0m, in \u001b[0;36mRunnable._transform_stream_with_config\u001b[1;34m(self, input, transformer, config, run_type, **kwargs)\u001b[0m\n\u001b[0;32m   1860\u001b[0m \u001b[38;5;28;01mtry\u001b[39;00m:\n\u001b[0;32m   1861\u001b[0m     \u001b[38;5;28;01mwhile\u001b[39;00m \u001b[38;5;28;01mTrue\u001b[39;00m:\n\u001b[1;32m-> 1862\u001b[0m         chunk: Output \u001b[38;5;241m=\u001b[39m \u001b[43mcontext\u001b[49m\u001b[38;5;241;43m.\u001b[39;49m\u001b[43mrun\u001b[49m\u001b[43m(\u001b[49m\u001b[38;5;28;43mnext\u001b[39;49m\u001b[43m,\u001b[49m\u001b[43m \u001b[49m\u001b[43miterator\u001b[49m\u001b[43m)\u001b[49m  \u001b[38;5;66;03m# type: ignore\u001b[39;00m\n\u001b[0;32m   1863\u001b[0m         \u001b[38;5;28;01myield\u001b[39;00m chunk\n\u001b[0;32m   1864\u001b[0m         \u001b[38;5;28;01mif\u001b[39;00m final_output_supported:\n",
      "File \u001b[1;32mc:\\Users\\user240512\\.conda\\envs\\langchain\\lib\\site-packages\\langchain_core\\runnables\\base.py:2826\u001b[0m, in \u001b[0;36mRunnableSequence._transform\u001b[1;34m(self, input, run_manager, config, **kwargs)\u001b[0m\n\u001b[0;32m   2823\u001b[0m     \u001b[38;5;28;01melse\u001b[39;00m:\n\u001b[0;32m   2824\u001b[0m         final_pipeline \u001b[38;5;241m=\u001b[39m step\u001b[38;5;241m.\u001b[39mtransform(final_pipeline, config)\n\u001b[1;32m-> 2826\u001b[0m \u001b[38;5;28;01mfor\u001b[39;00m output \u001b[38;5;129;01min\u001b[39;00m final_pipeline:\n\u001b[0;32m   2827\u001b[0m     \u001b[38;5;28;01myield\u001b[39;00m output\n",
      "File \u001b[1;32mc:\\Users\\user240512\\.conda\\envs\\langchain\\lib\\site-packages\\langchain_core\\output_parsers\\transform.py:60\u001b[0m, in \u001b[0;36mBaseTransformOutputParser.transform\u001b[1;34m(self, input, config, **kwargs)\u001b[0m\n\u001b[0;32m     44\u001b[0m \u001b[38;5;28;01mdef\u001b[39;00m \u001b[38;5;21mtransform\u001b[39m(\n\u001b[0;32m     45\u001b[0m     \u001b[38;5;28mself\u001b[39m,\n\u001b[0;32m     46\u001b[0m     \u001b[38;5;28minput\u001b[39m: Iterator[Union[\u001b[38;5;28mstr\u001b[39m, BaseMessage]],\n\u001b[0;32m     47\u001b[0m     config: Optional[RunnableConfig] \u001b[38;5;241m=\u001b[39m \u001b[38;5;28;01mNone\u001b[39;00m,\n\u001b[0;32m     48\u001b[0m     \u001b[38;5;241m*\u001b[39m\u001b[38;5;241m*\u001b[39mkwargs: Any,\n\u001b[0;32m     49\u001b[0m ) \u001b[38;5;241m-\u001b[39m\u001b[38;5;241m>\u001b[39m Iterator[T]:\n\u001b[0;32m     50\u001b[0m \u001b[38;5;250m    \u001b[39m\u001b[38;5;124;03m\"\"\"Transform the input into the output format.\u001b[39;00m\n\u001b[0;32m     51\u001b[0m \n\u001b[0;32m     52\u001b[0m \u001b[38;5;124;03m    Args:\u001b[39;00m\n\u001b[1;32m   (...)\u001b[0m\n\u001b[0;32m     58\u001b[0m \u001b[38;5;124;03m        The transformed output.\u001b[39;00m\n\u001b[0;32m     59\u001b[0m \u001b[38;5;124;03m    \"\"\"\u001b[39;00m\n\u001b[1;32m---> 60\u001b[0m     \u001b[38;5;28;01myield from\u001b[39;00m \u001b[38;5;28mself\u001b[39m\u001b[38;5;241m.\u001b[39m_transform_stream_with_config(\n\u001b[0;32m     61\u001b[0m         \u001b[38;5;28minput\u001b[39m, \u001b[38;5;28mself\u001b[39m\u001b[38;5;241m.\u001b[39m_transform, config, run_type\u001b[38;5;241m=\u001b[39m\u001b[38;5;124m\"\u001b[39m\u001b[38;5;124mparser\u001b[39m\u001b[38;5;124m\"\u001b[39m\n\u001b[0;32m     62\u001b[0m     )\n",
      "File \u001b[1;32mc:\\Users\\user240512\\.conda\\envs\\langchain\\lib\\site-packages\\langchain_core\\runnables\\base.py:1862\u001b[0m, in \u001b[0;36mRunnable._transform_stream_with_config\u001b[1;34m(self, input, transformer, config, run_type, **kwargs)\u001b[0m\n\u001b[0;32m   1860\u001b[0m \u001b[38;5;28;01mtry\u001b[39;00m:\n\u001b[0;32m   1861\u001b[0m     \u001b[38;5;28;01mwhile\u001b[39;00m \u001b[38;5;28;01mTrue\u001b[39;00m:\n\u001b[1;32m-> 1862\u001b[0m         chunk: Output \u001b[38;5;241m=\u001b[39m \u001b[43mcontext\u001b[49m\u001b[38;5;241;43m.\u001b[39;49m\u001b[43mrun\u001b[49m\u001b[43m(\u001b[49m\u001b[38;5;28;43mnext\u001b[39;49m\u001b[43m,\u001b[49m\u001b[43m \u001b[49m\u001b[43miterator\u001b[49m\u001b[43m)\u001b[49m  \u001b[38;5;66;03m# type: ignore\u001b[39;00m\n\u001b[0;32m   1863\u001b[0m         \u001b[38;5;28;01myield\u001b[39;00m chunk\n\u001b[0;32m   1864\u001b[0m         \u001b[38;5;28;01mif\u001b[39;00m final_output_supported:\n",
      "File \u001b[1;32mc:\\Users\\user240512\\.conda\\envs\\langchain\\lib\\site-packages\\langchain_core\\output_parsers\\transform.py:29\u001b[0m, in \u001b[0;36mBaseTransformOutputParser._transform\u001b[1;34m(self, input)\u001b[0m\n\u001b[0;32m     28\u001b[0m \u001b[38;5;28;01mdef\u001b[39;00m \u001b[38;5;21m_transform\u001b[39m(\u001b[38;5;28mself\u001b[39m, \u001b[38;5;28minput\u001b[39m: Iterator[Union[\u001b[38;5;28mstr\u001b[39m, BaseMessage]]) \u001b[38;5;241m-\u001b[39m\u001b[38;5;241m>\u001b[39m Iterator[T]:\n\u001b[1;32m---> 29\u001b[0m     \u001b[38;5;28;01mfor\u001b[39;00m chunk \u001b[38;5;129;01min\u001b[39;00m \u001b[38;5;28minput\u001b[39m:\n\u001b[0;32m     30\u001b[0m         \u001b[38;5;28;01mif\u001b[39;00m \u001b[38;5;28misinstance\u001b[39m(chunk, BaseMessage):\n\u001b[0;32m     31\u001b[0m             \u001b[38;5;28;01myield\u001b[39;00m \u001b[38;5;28mself\u001b[39m\u001b[38;5;241m.\u001b[39mparse_result([ChatGeneration(message\u001b[38;5;241m=\u001b[39mchunk)])\n",
      "File \u001b[1;32mc:\\Users\\user240512\\.conda\\envs\\langchain\\lib\\site-packages\\langchain_core\\runnables\\base.py:1175\u001b[0m, in \u001b[0;36mRunnable.transform\u001b[1;34m(self, input, config, **kwargs)\u001b[0m\n\u001b[0;32m   1172\u001b[0m             final \u001b[38;5;241m=\u001b[39m ichunk\n\u001b[0;32m   1174\u001b[0m \u001b[38;5;28;01mif\u001b[39;00m got_first_val:\n\u001b[1;32m-> 1175\u001b[0m     \u001b[38;5;28;01myield from\u001b[39;00m \u001b[38;5;28mself\u001b[39m\u001b[38;5;241m.\u001b[39mstream(final, config, \u001b[38;5;241m*\u001b[39m\u001b[38;5;241m*\u001b[39mkwargs)\n",
      "File \u001b[1;32mc:\\Users\\user240512\\.conda\\envs\\langchain\\lib\\site-packages\\langchain_core\\language_models\\chat_models.py:375\u001b[0m, in \u001b[0;36mBaseChatModel.stream\u001b[1;34m(self, input, config, stop, **kwargs)\u001b[0m\n\u001b[0;32m    368\u001b[0m \u001b[38;5;28;01mexcept\u001b[39;00m \u001b[38;5;167;01mBaseException\u001b[39;00m \u001b[38;5;28;01mas\u001b[39;00m e:\n\u001b[0;32m    369\u001b[0m     run_manager\u001b[38;5;241m.\u001b[39mon_llm_error(\n\u001b[0;32m    370\u001b[0m         e,\n\u001b[0;32m    371\u001b[0m         response\u001b[38;5;241m=\u001b[39mLLMResult(\n\u001b[0;32m    372\u001b[0m             generations\u001b[38;5;241m=\u001b[39m[[generation]] \u001b[38;5;28;01mif\u001b[39;00m generation \u001b[38;5;28;01melse\u001b[39;00m []\n\u001b[0;32m    373\u001b[0m         ),\n\u001b[0;32m    374\u001b[0m     )\n\u001b[1;32m--> 375\u001b[0m     \u001b[38;5;28;01mraise\u001b[39;00m e\n\u001b[0;32m    376\u001b[0m \u001b[38;5;28;01melse\u001b[39;00m:\n\u001b[0;32m    377\u001b[0m     run_manager\u001b[38;5;241m.\u001b[39mon_llm_end(LLMResult(generations\u001b[38;5;241m=\u001b[39m[[generation]]))\n",
      "File \u001b[1;32mc:\\Users\\user240512\\.conda\\envs\\langchain\\lib\\site-packages\\langchain_core\\language_models\\chat_models.py:355\u001b[0m, in \u001b[0;36mBaseChatModel.stream\u001b[1;34m(self, input, config, stop, **kwargs)\u001b[0m\n\u001b[0;32m    353\u001b[0m generation: Optional[ChatGenerationChunk] \u001b[38;5;241m=\u001b[39m \u001b[38;5;28;01mNone\u001b[39;00m\n\u001b[0;32m    354\u001b[0m \u001b[38;5;28;01mtry\u001b[39;00m:\n\u001b[1;32m--> 355\u001b[0m     \u001b[38;5;28;01mfor\u001b[39;00m chunk \u001b[38;5;129;01min\u001b[39;00m \u001b[38;5;28mself\u001b[39m\u001b[38;5;241m.\u001b[39m_stream(messages, stop\u001b[38;5;241m=\u001b[39mstop, \u001b[38;5;241m*\u001b[39m\u001b[38;5;241m*\u001b[39mkwargs):\n\u001b[0;32m    356\u001b[0m         \u001b[38;5;28;01mif\u001b[39;00m chunk\u001b[38;5;241m.\u001b[39mmessage\u001b[38;5;241m.\u001b[39mid \u001b[38;5;129;01mis\u001b[39;00m \u001b[38;5;28;01mNone\u001b[39;00m:\n\u001b[0;32m    357\u001b[0m             chunk\u001b[38;5;241m.\u001b[39mmessage\u001b[38;5;241m.\u001b[39mid \u001b[38;5;241m=\u001b[39m \u001b[38;5;124mf\u001b[39m\u001b[38;5;124m\"\u001b[39m\u001b[38;5;124mrun-\u001b[39m\u001b[38;5;132;01m{\u001b[39;00mrun_manager\u001b[38;5;241m.\u001b[39mrun_id\u001b[38;5;132;01m}\u001b[39;00m\u001b[38;5;124m\"\u001b[39m\n",
      "File \u001b[1;32mc:\\Users\\user240512\\.conda\\envs\\langchain\\lib\\site-packages\\langchain_community\\chat_models\\ollama.py:344\u001b[0m, in \u001b[0;36mChatOllama._stream\u001b[1;34m(self, messages, stop, run_manager, **kwargs)\u001b[0m\n\u001b[0;32m    336\u001b[0m \u001b[38;5;28;01mdef\u001b[39;00m \u001b[38;5;21m_stream\u001b[39m(\n\u001b[0;32m    337\u001b[0m     \u001b[38;5;28mself\u001b[39m,\n\u001b[0;32m    338\u001b[0m     messages: List[BaseMessage],\n\u001b[1;32m   (...)\u001b[0m\n\u001b[0;32m    341\u001b[0m     \u001b[38;5;241m*\u001b[39m\u001b[38;5;241m*\u001b[39mkwargs: Any,\n\u001b[0;32m    342\u001b[0m ) \u001b[38;5;241m-\u001b[39m\u001b[38;5;241m>\u001b[39m Iterator[ChatGenerationChunk]:\n\u001b[0;32m    343\u001b[0m     \u001b[38;5;28;01mtry\u001b[39;00m:\n\u001b[1;32m--> 344\u001b[0m         \u001b[38;5;28;01mfor\u001b[39;00m stream_resp \u001b[38;5;129;01min\u001b[39;00m \u001b[38;5;28mself\u001b[39m\u001b[38;5;241m.\u001b[39m_create_chat_stream(messages, stop, \u001b[38;5;241m*\u001b[39m\u001b[38;5;241m*\u001b[39mkwargs):\n\u001b[0;32m    345\u001b[0m             \u001b[38;5;28;01mif\u001b[39;00m stream_resp:\n\u001b[0;32m    346\u001b[0m                 chunk \u001b[38;5;241m=\u001b[39m _chat_stream_response_to_chat_generation_chunk(stream_resp)\n",
      "File \u001b[1;32mc:\\Users\\user240512\\.conda\\envs\\langchain\\lib\\site-packages\\langchain_community\\chat_models\\ollama.py:189\u001b[0m, in \u001b[0;36mChatOllama._create_chat_stream\u001b[1;34m(self, messages, stop, **kwargs)\u001b[0m\n\u001b[0;32m    179\u001b[0m \u001b[38;5;28;01mdef\u001b[39;00m \u001b[38;5;21m_create_chat_stream\u001b[39m(\n\u001b[0;32m    180\u001b[0m     \u001b[38;5;28mself\u001b[39m,\n\u001b[0;32m    181\u001b[0m     messages: List[BaseMessage],\n\u001b[0;32m    182\u001b[0m     stop: Optional[List[\u001b[38;5;28mstr\u001b[39m]] \u001b[38;5;241m=\u001b[39m \u001b[38;5;28;01mNone\u001b[39;00m,\n\u001b[0;32m    183\u001b[0m     \u001b[38;5;241m*\u001b[39m\u001b[38;5;241m*\u001b[39mkwargs: Any,\n\u001b[0;32m    184\u001b[0m ) \u001b[38;5;241m-\u001b[39m\u001b[38;5;241m>\u001b[39m Iterator[\u001b[38;5;28mstr\u001b[39m]:\n\u001b[0;32m    185\u001b[0m     payload \u001b[38;5;241m=\u001b[39m {\n\u001b[0;32m    186\u001b[0m         \u001b[38;5;124m\"\u001b[39m\u001b[38;5;124mmodel\u001b[39m\u001b[38;5;124m\"\u001b[39m: \u001b[38;5;28mself\u001b[39m\u001b[38;5;241m.\u001b[39mmodel,\n\u001b[0;32m    187\u001b[0m         \u001b[38;5;124m\"\u001b[39m\u001b[38;5;124mmessages\u001b[39m\u001b[38;5;124m\"\u001b[39m: \u001b[38;5;28mself\u001b[39m\u001b[38;5;241m.\u001b[39m_convert_messages_to_ollama_messages(messages),\n\u001b[0;32m    188\u001b[0m     }\n\u001b[1;32m--> 189\u001b[0m     \u001b[38;5;28;01myield from\u001b[39;00m \u001b[38;5;28mself\u001b[39m\u001b[38;5;241m.\u001b[39m_create_stream(\n\u001b[0;32m    190\u001b[0m         payload\u001b[38;5;241m=\u001b[39mpayload, stop\u001b[38;5;241m=\u001b[39mstop, api_url\u001b[38;5;241m=\u001b[39m\u001b[38;5;124mf\u001b[39m\u001b[38;5;124m\"\u001b[39m\u001b[38;5;132;01m{\u001b[39;00m\u001b[38;5;28mself\u001b[39m\u001b[38;5;241m.\u001b[39mbase_url\u001b[38;5;132;01m}\u001b[39;00m\u001b[38;5;124m/api/chat\u001b[39m\u001b[38;5;124m\"\u001b[39m, \u001b[38;5;241m*\u001b[39m\u001b[38;5;241m*\u001b[39mkwargs\n\u001b[0;32m    191\u001b[0m     )\n",
      "File \u001b[1;32mc:\\Users\\user240512\\.conda\\envs\\langchain\\lib\\site-packages\\requests\\models.py:869\u001b[0m, in \u001b[0;36mResponse.iter_lines\u001b[1;34m(self, chunk_size, decode_unicode, delimiter)\u001b[0m\n\u001b[0;32m    860\u001b[0m \u001b[38;5;250m\u001b[39m\u001b[38;5;124;03m\"\"\"Iterates over the response data, one line at a time.  When\u001b[39;00m\n\u001b[0;32m    861\u001b[0m \u001b[38;5;124;03mstream=True is set on the request, this avoids reading the\u001b[39;00m\n\u001b[0;32m    862\u001b[0m \u001b[38;5;124;03mcontent at once into memory for large responses.\u001b[39;00m\n\u001b[0;32m    863\u001b[0m \n\u001b[0;32m    864\u001b[0m \u001b[38;5;124;03m.. note:: This method is not reentrant safe.\u001b[39;00m\n\u001b[0;32m    865\u001b[0m \u001b[38;5;124;03m\"\"\"\u001b[39;00m\n\u001b[0;32m    867\u001b[0m pending \u001b[38;5;241m=\u001b[39m \u001b[38;5;28;01mNone\u001b[39;00m\n\u001b[1;32m--> 869\u001b[0m \u001b[38;5;28;01mfor\u001b[39;00m chunk \u001b[38;5;129;01min\u001b[39;00m \u001b[38;5;28mself\u001b[39m\u001b[38;5;241m.\u001b[39miter_content(\n\u001b[0;32m    870\u001b[0m     chunk_size\u001b[38;5;241m=\u001b[39mchunk_size, decode_unicode\u001b[38;5;241m=\u001b[39mdecode_unicode\n\u001b[0;32m    871\u001b[0m ):\n\u001b[0;32m    872\u001b[0m     \u001b[38;5;28;01mif\u001b[39;00m pending \u001b[38;5;129;01mis\u001b[39;00m \u001b[38;5;129;01mnot\u001b[39;00m \u001b[38;5;28;01mNone\u001b[39;00m:\n\u001b[0;32m    873\u001b[0m         chunk \u001b[38;5;241m=\u001b[39m pending \u001b[38;5;241m+\u001b[39m chunk\n",
      "File \u001b[1;32mc:\\Users\\user240512\\.conda\\envs\\langchain\\lib\\site-packages\\requests\\utils.py:572\u001b[0m, in \u001b[0;36mstream_decode_response_unicode\u001b[1;34m(iterator, r)\u001b[0m\n\u001b[0;32m    569\u001b[0m     \u001b[38;5;28;01mreturn\u001b[39;00m\n\u001b[0;32m    571\u001b[0m decoder \u001b[38;5;241m=\u001b[39m codecs\u001b[38;5;241m.\u001b[39mgetincrementaldecoder(r\u001b[38;5;241m.\u001b[39mencoding)(errors\u001b[38;5;241m=\u001b[39m\u001b[38;5;124m\"\u001b[39m\u001b[38;5;124mreplace\u001b[39m\u001b[38;5;124m\"\u001b[39m)\n\u001b[1;32m--> 572\u001b[0m \u001b[38;5;28;01mfor\u001b[39;00m chunk \u001b[38;5;129;01min\u001b[39;00m iterator:\n\u001b[0;32m    573\u001b[0m     rv \u001b[38;5;241m=\u001b[39m decoder\u001b[38;5;241m.\u001b[39mdecode(chunk)\n\u001b[0;32m    574\u001b[0m     \u001b[38;5;28;01mif\u001b[39;00m rv:\n",
      "File \u001b[1;32mc:\\Users\\user240512\\.conda\\envs\\langchain\\lib\\site-packages\\requests\\models.py:820\u001b[0m, in \u001b[0;36mResponse.iter_content.<locals>.generate\u001b[1;34m()\u001b[0m\n\u001b[0;32m    818\u001b[0m \u001b[38;5;28;01mif\u001b[39;00m \u001b[38;5;28mhasattr\u001b[39m(\u001b[38;5;28mself\u001b[39m\u001b[38;5;241m.\u001b[39mraw, \u001b[38;5;124m\"\u001b[39m\u001b[38;5;124mstream\u001b[39m\u001b[38;5;124m\"\u001b[39m):\n\u001b[0;32m    819\u001b[0m     \u001b[38;5;28;01mtry\u001b[39;00m:\n\u001b[1;32m--> 820\u001b[0m         \u001b[38;5;28;01myield from\u001b[39;00m \u001b[38;5;28mself\u001b[39m\u001b[38;5;241m.\u001b[39mraw\u001b[38;5;241m.\u001b[39mstream(chunk_size, decode_content\u001b[38;5;241m=\u001b[39m\u001b[38;5;28;01mTrue\u001b[39;00m)\n\u001b[0;32m    821\u001b[0m     \u001b[38;5;28;01mexcept\u001b[39;00m ProtocolError \u001b[38;5;28;01mas\u001b[39;00m e:\n\u001b[0;32m    822\u001b[0m         \u001b[38;5;28;01mraise\u001b[39;00m ChunkedEncodingError(e)\n",
      "File \u001b[1;32mc:\\Users\\user240512\\.conda\\envs\\langchain\\lib\\site-packages\\urllib3\\response.py:1057\u001b[0m, in \u001b[0;36mHTTPResponse.stream\u001b[1;34m(self, amt, decode_content)\u001b[0m\n\u001b[0;32m   1041\u001b[0m \u001b[38;5;250m\u001b[39m\u001b[38;5;124;03m\"\"\"\u001b[39;00m\n\u001b[0;32m   1042\u001b[0m \u001b[38;5;124;03mA generator wrapper for the read() method. A call will block until\u001b[39;00m\n\u001b[0;32m   1043\u001b[0m \u001b[38;5;124;03m``amt`` bytes have been read from the connection or until the\u001b[39;00m\n\u001b[1;32m   (...)\u001b[0m\n\u001b[0;32m   1054\u001b[0m \u001b[38;5;124;03m    'content-encoding' header.\u001b[39;00m\n\u001b[0;32m   1055\u001b[0m \u001b[38;5;124;03m\"\"\"\u001b[39;00m\n\u001b[0;32m   1056\u001b[0m \u001b[38;5;28;01mif\u001b[39;00m \u001b[38;5;28mself\u001b[39m\u001b[38;5;241m.\u001b[39mchunked \u001b[38;5;129;01mand\u001b[39;00m \u001b[38;5;28mself\u001b[39m\u001b[38;5;241m.\u001b[39msupports_chunked_reads():\n\u001b[1;32m-> 1057\u001b[0m     \u001b[38;5;28;01myield from\u001b[39;00m \u001b[38;5;28mself\u001b[39m\u001b[38;5;241m.\u001b[39mread_chunked(amt, decode_content\u001b[38;5;241m=\u001b[39mdecode_content)\n\u001b[0;32m   1058\u001b[0m \u001b[38;5;28;01melse\u001b[39;00m:\n\u001b[0;32m   1059\u001b[0m     \u001b[38;5;28;01mwhile\u001b[39;00m \u001b[38;5;129;01mnot\u001b[39;00m is_fp_closed(\u001b[38;5;28mself\u001b[39m\u001b[38;5;241m.\u001b[39m_fp) \u001b[38;5;129;01mor\u001b[39;00m \u001b[38;5;28mlen\u001b[39m(\u001b[38;5;28mself\u001b[39m\u001b[38;5;241m.\u001b[39m_decoded_buffer) \u001b[38;5;241m>\u001b[39m \u001b[38;5;241m0\u001b[39m:\n",
      "File \u001b[1;32mc:\\Users\\user240512\\.conda\\envs\\langchain\\lib\\site-packages\\urllib3\\response.py:1206\u001b[0m, in \u001b[0;36mHTTPResponse.read_chunked\u001b[1;34m(self, amt, decode_content)\u001b[0m\n\u001b[0;32m   1203\u001b[0m     amt \u001b[38;5;241m=\u001b[39m \u001b[38;5;28;01mNone\u001b[39;00m\n\u001b[0;32m   1205\u001b[0m \u001b[38;5;28;01mwhile\u001b[39;00m \u001b[38;5;28;01mTrue\u001b[39;00m:\n\u001b[1;32m-> 1206\u001b[0m     \u001b[38;5;28;43mself\u001b[39;49m\u001b[38;5;241;43m.\u001b[39;49m\u001b[43m_update_chunk_length\u001b[49m\u001b[43m(\u001b[49m\u001b[43m)\u001b[49m\n\u001b[0;32m   1207\u001b[0m     \u001b[38;5;28;01mif\u001b[39;00m \u001b[38;5;28mself\u001b[39m\u001b[38;5;241m.\u001b[39mchunk_left \u001b[38;5;241m==\u001b[39m \u001b[38;5;241m0\u001b[39m:\n\u001b[0;32m   1208\u001b[0m         \u001b[38;5;28;01mbreak\u001b[39;00m\n",
      "File \u001b[1;32mc:\\Users\\user240512\\.conda\\envs\\langchain\\lib\\site-packages\\urllib3\\response.py:1125\u001b[0m, in \u001b[0;36mHTTPResponse._update_chunk_length\u001b[1;34m(self)\u001b[0m\n\u001b[0;32m   1123\u001b[0m \u001b[38;5;28;01mif\u001b[39;00m \u001b[38;5;28mself\u001b[39m\u001b[38;5;241m.\u001b[39mchunk_left \u001b[38;5;129;01mis\u001b[39;00m \u001b[38;5;129;01mnot\u001b[39;00m \u001b[38;5;28;01mNone\u001b[39;00m:\n\u001b[0;32m   1124\u001b[0m     \u001b[38;5;28;01mreturn\u001b[39;00m \u001b[38;5;28;01mNone\u001b[39;00m\n\u001b[1;32m-> 1125\u001b[0m line \u001b[38;5;241m=\u001b[39m \u001b[38;5;28;43mself\u001b[39;49m\u001b[38;5;241;43m.\u001b[39;49m\u001b[43m_fp\u001b[49m\u001b[38;5;241;43m.\u001b[39;49m\u001b[43mfp\u001b[49m\u001b[38;5;241;43m.\u001b[39;49m\u001b[43mreadline\u001b[49m\u001b[43m(\u001b[49m\u001b[43m)\u001b[49m  \u001b[38;5;66;03m# type: ignore[union-attr]\u001b[39;00m\n\u001b[0;32m   1126\u001b[0m line \u001b[38;5;241m=\u001b[39m line\u001b[38;5;241m.\u001b[39msplit(\u001b[38;5;124mb\u001b[39m\u001b[38;5;124m\"\u001b[39m\u001b[38;5;124m;\u001b[39m\u001b[38;5;124m\"\u001b[39m, \u001b[38;5;241m1\u001b[39m)[\u001b[38;5;241m0\u001b[39m]\n\u001b[0;32m   1127\u001b[0m \u001b[38;5;28;01mtry\u001b[39;00m:\n",
      "File \u001b[1;32mc:\\Users\\user240512\\.conda\\envs\\langchain\\lib\\socket.py:704\u001b[0m, in \u001b[0;36mSocketIO.readinto\u001b[1;34m(self, b)\u001b[0m\n\u001b[0;32m    702\u001b[0m \u001b[38;5;28;01mwhile\u001b[39;00m \u001b[38;5;28;01mTrue\u001b[39;00m:\n\u001b[0;32m    703\u001b[0m     \u001b[38;5;28;01mtry\u001b[39;00m:\n\u001b[1;32m--> 704\u001b[0m         \u001b[38;5;28;01mreturn\u001b[39;00m \u001b[38;5;28;43mself\u001b[39;49m\u001b[38;5;241;43m.\u001b[39;49m\u001b[43m_sock\u001b[49m\u001b[38;5;241;43m.\u001b[39;49m\u001b[43mrecv_into\u001b[49m\u001b[43m(\u001b[49m\u001b[43mb\u001b[49m\u001b[43m)\u001b[49m\n\u001b[0;32m    705\u001b[0m     \u001b[38;5;28;01mexcept\u001b[39;00m timeout:\n\u001b[0;32m    706\u001b[0m         \u001b[38;5;28mself\u001b[39m\u001b[38;5;241m.\u001b[39m_timeout_occurred \u001b[38;5;241m=\u001b[39m \u001b[38;5;28;01mTrue\u001b[39;00m\n",
      "\u001b[1;31mKeyboardInterrupt\u001b[0m: "
     ]
    }
   ],
   "source": [
    "for chunk in rag_chain.stream(\"장애 등급 기준\"):\n",
    "    print(chunk, end=\"\", flush=True)"
   ]
  },
  {
   "cell_type": "code",
   "execution_count": 25,
   "metadata": {},
   "outputs": [
    {
     "data": {
      "text/plain": [
       "3"
      ]
     },
     "execution_count": 25,
     "metadata": {},
     "output_type": "execute_result"
    }
   ],
   "source": [
    "retrieved_docs = retriever.invoke(\"장애 등급 기준\")\n",
    "\n",
    "len(retrieved_docs)"
   ]
  },
  {
   "cell_type": "code",
   "execution_count": 26,
   "metadata": {},
   "outputs": [
    {
     "data": {
      "text/plain": [
       "[Document(metadata={'page': 35, 'source': 'C:\\\\Users\\\\user240512\\\\Desktop\\\\황신정\\\\langchain\\\\pdf\\\\2018 장애인 차별 예방 사이버인권교육보조교재.pdf'}, page_content='상황에서 부적절한 정서 반응을 보이는 장애를 뜻한다 . 따라서 지적 장애는 인지, 자폐\\n성장애는 관계 맺기, 정신 장애는 소통하는데 어려움을 느끼는 장애이다 .\\n나. 장애의 연결\\n1. 발달･지적･정신장애의 분류와 증상\\n1) 발달･지적･정신장애의 분류\\n현재 한국에서는 장애인복지법상 15개 장애유형으로 분류하고 있다.각 장애유형별로 \\n판정기준에 따라 1∼6급까지 등급을 나누어 장애인에 대한 지원제도를 등급별로 시행하고 \\n있다.\\n2) 발달･지적･정신장애의 증상\\n(1) 발달장애\\n발달장애는 말 그대로 발달에 어려움을 겪는 장애이다 . 사람은 출생부터 나이를 먹어\\n가며 발달이 진행되어야 한다. 그러나 어떤 이유로 또래의 같은 연령에 있는 사람과'),\n",
       " Document(metadata={'page': 35, 'source': 'C:\\\\Users\\\\user240512\\\\Desktop\\\\황신정\\\\langchain\\\\pdf\\\\2018 장애인 차별 예방 사이버인권교육보조교재.pdf'}, page_content='상황에서 부적절한 정서 반응을 보이는 장애를 뜻한다 . 따라서 지적 장애는 인지, 자폐\\n성장애는 관계 맺기, 정신 장애는 소통하는데 어려움을 느끼는 장애이다 .\\n나. 장애의 연결\\n1. 발달･지적･정신장애의 분류와 증상\\n1) 발달･지적･정신장애의 분류\\n현재 한국에서는 장애인복지법상 15개 장애유형으로 분류하고 있다.각 장애유형별로 \\n판정기준에 따라 1∼6급까지 등급을 나누어 장애인에 대한 지원제도를 등급별로 시행하고 \\n있다.\\n2) 발달･지적･정신장애의 증상\\n(1) 발달장애\\n발달장애는 말 그대로 발달에 어려움을 겪는 장애이다 . 사람은 출생부터 나이를 먹어\\n가며 발달이 진행되어야 한다. 그러나 어떤 이유로 또래의 같은 연령에 있는 사람과'),\n",
       " Document(metadata={'page': 35, 'source': 'C:\\\\Users\\\\user240512\\\\Desktop\\\\황신정\\\\langchain\\\\pdf\\\\2018 장애인 차별 예방 사이버인권교육보조교재.pdf'}, page_content='상황에서 부적절한 정서 반응을 보이는 장애를 뜻한다 . 따라서 지적 장애는 인지, 자폐\\n성장애는 관계 맺기, 정신 장애는 소통하는데 어려움을 느끼는 장애이다 .\\n나. 장애의 연결\\n1. 발달･지적･정신장애의 분류와 증상\\n1) 발달･지적･정신장애의 분류\\n현재 한국에서는 장애인복지법상 15개 장애유형으로 분류하고 있다.각 장애유형별로 \\n판정기준에 따라 1∼6급까지 등급을 나누어 장애인에 대한 지원제도를 등급별로 시행하고 \\n있다.\\n2) 발달･지적･정신장애의 증상\\n(1) 발달장애\\n발달장애는 말 그대로 발달에 어려움을 겪는 장애이다 . 사람은 출생부터 나이를 먹어\\n가며 발달이 진행되어야 한다. 그러나 어떤 이유로 또래의 같은 연령에 있는 사람과')]"
      ]
     },
     "execution_count": 26,
     "metadata": {},
     "output_type": "execute_result"
    }
   ],
   "source": [
    "retrieved_docs"
   ]
  },
  {
   "cell_type": "code",
   "execution_count": null,
   "metadata": {},
   "outputs": [],
   "source": []
  }
 ],
 "metadata": {
  "kernelspec": {
   "display_name": "langchain",
   "language": "python",
   "name": "python3"
  },
  "language_info": {
   "codemirror_mode": {
    "name": "ipython",
    "version": 3
   },
   "file_extension": ".py",
   "mimetype": "text/x-python",
   "name": "python",
   "nbconvert_exporter": "python",
   "pygments_lexer": "ipython3",
   "version": "3.9.19"
  }
 },
 "nbformat": 4,
 "nbformat_minor": 2
}
